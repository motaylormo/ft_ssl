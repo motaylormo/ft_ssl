{
 "cells": [
  {
   "cell_type": "markdown",
   "metadata": {},
   "source": [
    "# MD5"
   ]
  },
  {
   "cell_type": "markdown",
   "metadata": {},
   "source": [
    "## Rounds"
   ]
  },
  {
   "cell_type": "code",
   "execution_count": 43,
   "metadata": {},
   "outputs": [
    {
     "data": {
      "text/latex": [
       "\\begin{equation}\n",
       "\\begin{array}{l}\n",
       "\\\\{\\phantom{0}0 \\leq i \\leq 15} \\begin{cases}\n",
       "        F(b,c,d) = (b \\land c) \\lor (\\neg b \\land d)\n",
       "        \\\\g = i\n",
       "        \\\\s = \\big\\{ 7, 12, 17, 22 \\big\\}\n",
       "    \\end{cases}\n",
       "\\\\{16 \\leq i \\leq 31} \\begin{cases}\n",
       "        F(b,c,d) = (b \\land d) \\lor (c \\land \\neg d)\n",
       "        \\\\g = (5 \\times i + 1) \\mod 16\n",
       "        \\\\s = \\big\\{ 5, 9, 14, 20 \\big\\}\n",
       "    \\end{cases}\n",
       "\\\\{32 \\leq i \\leq 47} \\begin{cases}\n",
       "        F(b,c,d) = b \\oplus c \\oplus d\n",
       "        \\\\g = (3 \\times i + 5) \\mod 16\n",
       "        \\\\s = \\big\\{ 4, 11, 16, 23 \\big\\}\n",
       "    \\end{cases}\n",
       "\\\\{32 \\leq i \\leq 47} \\begin{cases}\n",
       "        F(b,c,d) = c \\oplus (b \\lor \\neg d)\n",
       "        \\\\g = (7 \\times i) \\mod 16\n",
       "        \\\\s = \\big\\{ 6, 10, 15, 21 \\big\\}\n",
       "    \\end{cases}\n",
       "\\end{array}\n",
       "\\end{equation}\n"
      ],
      "text/plain": [
       "<IPython.core.display.Latex object>"
      ]
     },
     "metadata": {},
     "output_type": "display_data"
    }
   ],
   "source": [
    "%%latex\n",
    "\\begin{equation}\n",
    "\\begin{array}{l}\n",
    "\\\\{\\phantom{0}0 \\leq i \\leq 15} \\begin{cases}\n",
    "        F(b,c,d) = (b \\land c) \\lor (\\neg b \\land d)\n",
    "        \\\\g = i\n",
    "        \\\\s = \\big\\{ 7, 12, 17, 22 \\big\\}\n",
    "    \\end{cases}\n",
    "\\\\{16 \\leq i \\leq 31} \\begin{cases}\n",
    "        F(b,c,d) = (b \\land d) \\lor (c \\land \\neg d)\n",
    "        \\\\g = (5 \\times i + 1) \\mod 16\n",
    "        \\\\s = \\big\\{ 5, 9, 14, 20 \\big\\}\n",
    "    \\end{cases}\n",
    "\\\\{32 \\leq i \\leq 47} \\begin{cases}\n",
    "        F(b,c,d) = b \\oplus c \\oplus d\n",
    "        \\\\g = (3 \\times i + 5) \\mod 16\n",
    "        \\\\s = \\big\\{ 4, 11, 16, 23 \\big\\}\n",
    "    \\end{cases}\n",
    "\\\\{32 \\leq i \\leq 47} \\begin{cases}\n",
    "        F(b,c,d) = c \\oplus (b \\lor \\neg d)\n",
    "        \\\\g = (7 \\times i) \\mod 16\n",
    "        \\\\s = \\big\\{ 6, 10, 15, 21 \\big\\}\n",
    "    \\end{cases}\n",
    "\\end{array}\n",
    "\\end{equation}"
   ]
  },
  {
   "cell_type": "markdown",
   "metadata": {},
   "source": [
    "## Compression function"
   ]
  },
  {
   "cell_type": "code",
   "execution_count": 46,
   "metadata": {},
   "outputs": [
    {
     "data": {
      "text/latex": [
       "\\begin{equation}\n",
       "\\begin{array}{l}\n",
       "tmp = b + RotL^{s[i]}(a + F(b,c,d) + K[i] + W[g])\n",
       "\\\\a = d\n",
       "\\\\d = c\n",
       "\\\\c = b\n",
       "\\\\b = tmp\n",
       "\\end{array}\n",
       "\\end{equation}\n"
      ],
      "text/plain": [
       "<IPython.core.display.Latex object>"
      ]
     },
     "metadata": {},
     "output_type": "display_data"
    }
   ],
   "source": [
    "%%latex\n",
    "\\begin{equation}\n",
    "\\begin{array}{l}\n",
    "tmp = b + RotL^{s[i]}(a + F(b,c,d) + K[i] + W[g])\n",
    "\\\\a = d\n",
    "\\\\d = c\n",
    "\\\\c = b\n",
    "\\\\b = tmp\n",
    "\\end{array}\n",
    "\\end{equation}"
   ]
  },
  {
   "cell_type": "markdown",
   "metadata": {},
   "source": [
    "# SHA-1"
   ]
  },
  {
   "cell_type": "markdown",
   "metadata": {},
   "source": [
    "## Words"
   ]
  },
  {
   "cell_type": "code",
   "execution_count": 48,
   "metadata": {},
   "outputs": [
    {
     "data": {
      "text/latex": [
       "\\begin{equation}\n",
       "\\begin{array}{l}\n",
       "\\\\{\\phantom{0}0 \\leq i \\leq 15} \\begin{cases}\n",
       "        \n",
       "    \\end{cases}\n",
       "\\\\{16 \\leq i \\leq 79} \\begin{cases}\n",
       "        W[i] = RotL^{1}(W[i - 3] \\oplus W[i - 8] \\oplus W[i - 14] \\oplus W[i - 16])\n",
       "    \\end{cases}\n",
       "\\end{array}\n",
       "\\end{equation}\n"
      ],
      "text/plain": [
       "<IPython.core.display.Latex object>"
      ]
     },
     "metadata": {},
     "output_type": "display_data"
    }
   ],
   "source": [
    "%%latex\n",
    "\\begin{equation}\n",
    "\\begin{array}{l}\n",
    "\\\\{\\phantom{0}0 \\leq i \\leq 15} \\begin{cases}\n",
    "        \n",
    "    \\end{cases}\n",
    "\\\\{16 \\leq i \\leq 79} \\begin{cases}\n",
    "        W[i] = RotL^{1}(W[i - 3] \\oplus W[i - 8] \\oplus W[i - 14] \\oplus W[i - 16])\n",
    "    \\end{cases}\n",
    "\\end{array}\n",
    "\\end{equation}"
   ]
  },
  {
   "cell_type": "markdown",
   "metadata": {},
   "source": [
    "## Rounds"
   ]
  },
  {
   "cell_type": "code",
   "execution_count": 53,
   "metadata": {},
   "outputs": [
    {
     "data": {
      "text/latex": [
       "\\begin{equation}\n",
       "\\begin{array}{l}\n",
       "\\\\{\\phantom{0}0 \\leq i \\leq 19} \\begin{cases}\n",
       "        F(b,c,d) = Ch(b, c, d)\n",
       "        \\\\K = \\text{5a827999}\n",
       "    \\end{cases}\n",
       "\\\\{20 \\leq i \\leq 39} \\begin{cases}\n",
       "        F(b,c,d) = Par(b,c,d)\n",
       "        \\\\K = \\text{6ed9eba1}\n",
       "    \\end{cases}\n",
       "\\\\{40 \\leq i \\leq 59} \\begin{cases}\n",
       "        F(b,c,d) = Maj(b,c,d)\n",
       "        \\\\K = \\text{8f1bbcdc}\n",
       "    \\end{cases}\n",
       "\\\\{60 \\leq i \\leq 79} \\begin{cases}\n",
       "        F(b,c,d) = Par(b,c,d)\n",
       "        \\\\K = \\text{ca62c1d6}\n",
       "    \\end{cases}\n",
       "\\end{array}\n",
       "\\end{equation}\n"
      ],
      "text/plain": [
       "<IPython.core.display.Latex object>"
      ]
     },
     "metadata": {},
     "output_type": "display_data"
    }
   ],
   "source": [
    "%%latex\n",
    "\\begin{equation}\n",
    "\\begin{array}{l}\n",
    "\\\\{\\phantom{0}0 \\leq i \\leq 19} \\begin{cases}\n",
    "        F(b,c,d) = Ch(b,c,d)\n",
    "        \\\\K = \\text{5a827999}\n",
    "    \\end{cases}\n",
    "\\\\{20 \\leq i \\leq 39} \\begin{cases}\n",
    "        F(b,c,d) = Par(b,c,d)\n",
    "        \\\\K = \\text{6ed9eba1}\n",
    "    \\end{cases}\n",
    "\\\\{40 \\leq i \\leq 59} \\begin{cases}\n",
    "        F(b,c,d) = Maj(b,c,d)\n",
    "        \\\\K = \\text{8f1bbcdc}\n",
    "    \\end{cases}\n",
    "\\\\{60 \\leq i \\leq 79} \\begin{cases}\n",
    "        F(b,c,d) = Par(b,c,d)\n",
    "        \\\\K = \\text{ca62c1d6}\n",
    "    \\end{cases}\n",
    "\\end{array}\n",
    "\\end{equation}"
   ]
  },
  {
   "cell_type": "markdown",
   "metadata": {},
   "source": [
    "## Compression function"
   ]
  },
  {
   "cell_type": "code",
   "execution_count": 55,
   "metadata": {},
   "outputs": [
    {
     "data": {
      "text/latex": [
       "\\begin{equation}\n",
       "\\begin{array}{l}\n",
       "    tmp = RotL^{5}(a) + F(b,c,d) + W[i] + K + e\n",
       "    \\\\e = d\n",
       "    \\\\d = c\n",
       "    \\\\c = RotL^{30}(b)\n",
       "    \\\\b = a\n",
       "    \\\\a = tmp\n",
       "\\end{array}\n",
       "\\end{equation}\n"
      ],
      "text/plain": [
       "<IPython.core.display.Latex object>"
      ]
     },
     "metadata": {},
     "output_type": "display_data"
    }
   ],
   "source": [
    "%%latex\n",
    "\\begin{equation}\n",
    "\\begin{array}{l}\n",
    "    tmp = RotL^{5}(a) + F(b,c,d) + W[i] + K + e\n",
    "    \\\\e = d\n",
    "    \\\\d = c\n",
    "    \\\\c = RotL^{30}(b)\n",
    "    \\\\b = a\n",
    "    \\\\a = tmp\n",
    "\\end{array}\n",
    "\\end{equation}"
   ]
  },
  {
   "cell_type": "markdown",
   "metadata": {},
   "source": [
    "# SHA-256"
   ]
  },
  {
   "cell_type": "code",
   "execution_count": 66,
   "metadata": {},
   "outputs": [
    {
     "data": {
      "text/latex": [
       "\\begin{equation}\n",
       "\\begin{array}{l}\n",
       "    \\Sigma_{0}(x) = {RotR^{ 2}(x) \\oplus RotR^{13}(x) \\oplus RotR^{22}(x)}\\\\\n",
       "    \\Sigma_{1}(x) = {RotR^{ 6}(x) \\oplus RotR^{11}(x) \\oplus RotR^{25}(x)}\\\\\n",
       "    \\sigma_{0}(x) = {RotR^{ 7}(x) \\oplus RotR^{18}(x) \\oplus ShiftR^{3}(x)}\\\\\n",
       "    \\sigma_{1}(x) = {RotR^{17}(x) \\oplus RotR^{19}(x) \\oplus ShiftR^{10}(x)}\n",
       "\\end{array}\n",
       "\\end{equation}\n"
      ],
      "text/plain": [
       "<IPython.core.display.Latex object>"
      ]
     },
     "metadata": {},
     "output_type": "display_data"
    }
   ],
   "source": [
    "%%latex\n",
    "\\begin{equation}\n",
    "\\begin{array}{l}\n",
    "    \\Sigma_{0}(x) = {RotR^{ 2}(x) \\oplus RotR^{13}(x) \\oplus RotR^{22}(x)}\\\\\n",
    "    \\Sigma_{1}(x) = {RotR^{ 6}(x) \\oplus RotR^{11}(x) \\oplus RotR^{25}(x)}\\\\\n",
    "    \\sigma_{0}(x) = {RotR^{ 7}(x) \\oplus RotR^{18}(x) \\oplus ShiftR^{3}(x)}\\\\\n",
    "    \\sigma_{1}(x) = {RotR^{17}(x) \\oplus RotR^{19}(x) \\oplus ShiftR^{10}(x)}\n",
    "\\end{array}\n",
    "\\end{equation}"
   ]
  },
  {
   "cell_type": "markdown",
   "metadata": {},
   "source": [
    "## Words"
   ]
  },
  {
   "cell_type": "code",
   "execution_count": 62,
   "metadata": {},
   "outputs": [
    {
     "data": {
      "text/latex": [
       "\\begin{equation}\n",
       "\\begin{array}{l}\n",
       "\\\\{\\phantom{0}0 \\leq i \\leq 15} \\begin{cases}\n",
       "        \n",
       "    \\end{cases}\n",
       "\\\\{16 \\leq i \\leq 63} \\begin{cases}\n",
       "        W[i] = {\\sigma_{1}(W[i - 2]) + W[i - 7] + \\sigma_{0}(W[i - 15]) + W[i - 16]}\n",
       "    \\end{cases}\n",
       "\\end{array}\n",
       "\\end{equation}\n"
      ],
      "text/plain": [
       "<IPython.core.display.Latex object>"
      ]
     },
     "metadata": {},
     "output_type": "display_data"
    }
   ],
   "source": [
    "%%latex\n",
    "\\begin{equation}\n",
    "\\begin{array}{l}\n",
    "\\\\{\\phantom{0}0 \\leq i \\leq 15} \\begin{cases}\n",
    "        \n",
    "    \\end{cases}\n",
    "\\\\{16 \\leq i \\leq 63} \\begin{cases}\n",
    "        W[i] = {\\sigma_{1}(W[i - 2]) + W[i - 7] + \\sigma_{0}(W[i - 15]) + W[i - 16]}\n",
    "    \\end{cases}\n",
    "\\end{array}\n",
    "\\end{equation}"
   ]
  },
  {
   "cell_type": "markdown",
   "metadata": {},
   "source": [
    "## Compression function"
   ]
  },
  {
   "cell_type": "code",
   "execution_count": 64,
   "metadata": {},
   "outputs": [
    {
     "data": {
      "text/latex": [
       "\\begin{equation}\n",
       "\\begin{array}{l}\n",
       "    tmp1 = h + \\Sigma_{1}(e) + Ch(e,f,g) + K[i] + W[i]\n",
       "    \\\\tmp2 = \\Sigma_{0}(a) + Maj(a,b,c)\n",
       "    \\\\h = g\n",
       "    \\\\g = f\n",
       "    \\\\f = e\n",
       "    \\\\e = d + tmp1\n",
       "    \\\\d = c\n",
       "    \\\\c = b\n",
       "    \\\\b = a\n",
       "    \\\\a = tmp1 + tmp2\n",
       "\\end{array}\n",
       "\\end{equation}\n"
      ],
      "text/plain": [
       "<IPython.core.display.Latex object>"
      ]
     },
     "metadata": {},
     "output_type": "display_data"
    }
   ],
   "source": [
    "%%latex\n",
    "\\begin{equation}\n",
    "\\begin{array}{l}\n",
    "    tmp1 = h + \\Sigma_{1}(e) + Ch(e,f,g) + K[i] + W[i]\n",
    "    \\\\tmp2 = \\Sigma_{0}(a) + Maj(a,b,c)\n",
    "    \\\\h = g\n",
    "    \\\\g = f\n",
    "    \\\\f = e\n",
    "    \\\\e = d + tmp1\n",
    "    \\\\d = c\n",
    "    \\\\c = b\n",
    "    \\\\b = a\n",
    "    \\\\a = tmp1 + tmp2\n",
    "\\end{array}\n",
    "\\end{equation}"
   ]
  },
  {
   "cell_type": "markdown",
   "metadata": {},
   "source": [
    "# SHA-512"
   ]
  },
  {
   "cell_type": "code",
   "execution_count": 65,
   "metadata": {},
   "outputs": [
    {
     "data": {
      "text/latex": [
       "\\begin{equation}\n",
       "\\begin{array}{l}\n",
       "    \\Sigma_{0}(x) = {RotR^{28}(x) \\oplus RotR^{34}(x) \\oplus RotR^{39}(x)}\\\\\n",
       "    \\Sigma_{1}(x) = {RotR^{14}(x) \\oplus RotR^{18}(x) \\oplus RotR^{41}(x)}\\\\\n",
       "    \\sigma_{0}(x) = {RotR^{ 1}(x) \\oplus RotR^{ 8}(x) \\oplus ShiftR^{7}(x)}\\\\\n",
       "    \\sigma_{1}(x) = {RotR^{19}(x) \\oplus RotR^{61}(x) \\oplus ShiftR^{6}(x)}\n",
       "\\end{array}\n",
       "\\end{equation}\n"
      ],
      "text/plain": [
       "<IPython.core.display.Latex object>"
      ]
     },
     "metadata": {},
     "output_type": "display_data"
    }
   ],
   "source": [
    "%%latex\n",
    "\\begin{equation}\n",
    "\\begin{array}{l}\n",
    "    \\Sigma_{0}(x) = {RotR^{28}(x) \\oplus RotR^{34}(x) \\oplus RotR^{39}(x)}\\\\\n",
    "    \\Sigma_{1}(x) = {RotR^{14}(x) \\oplus RotR^{18}(x) \\oplus RotR^{41}(x)}\\\\\n",
    "    \\sigma_{0}(x) = {RotR^{ 1}(x) \\oplus RotR^{ 8}(x) \\oplus ShiftR^{7}(x)}\\\\\n",
    "    \\sigma_{1}(x) = {RotR^{19}(x) \\oplus RotR^{61}(x) \\oplus ShiftR^{6}(x)}\n",
    "\\end{array}\n",
    "\\end{equation}"
   ]
  },
  {
   "cell_type": "markdown",
   "metadata": {},
   "source": [
    "## Words"
   ]
  },
  {
   "cell_type": "code",
   "execution_count": 68,
   "metadata": {},
   "outputs": [
    {
     "data": {
      "text/latex": [
       "\\begin{equation}\n",
       "\\begin{array}{l}\n",
       "\\\\{\\phantom{0}0 \\leq i \\leq 15} \\begin{cases}\n",
       "        \n",
       "    \\end{cases}\n",
       "\\\\{16 \\leq i \\leq 63} \\begin{cases}\n",
       "        W[i] = {\\sigma_{1}(W[i-2]) + W[i - 7] + \\sigma_{0}(W[i - 15]) + W[i - 16]}\n",
       "    \\end{cases}\n",
       "\\end{array}\n",
       "\\end{equation}\n"
      ],
      "text/plain": [
       "<IPython.core.display.Latex object>"
      ]
     },
     "metadata": {},
     "output_type": "display_data"
    }
   ],
   "source": [
    "%%latex\n",
    "\\begin{equation}\n",
    "\\begin{array}{l}\n",
    "\\\\{\\phantom{0}0 \\leq i \\leq 15} \\begin{cases}\n",
    "        \n",
    "    \\end{cases}\n",
    "\\\\{16 \\leq i \\leq 63} \\begin{cases}\n",
    "        W[i] = {\\sigma_{1}(W[i - 2]) + W[i - 7] + \\sigma_{0}(W[i - 15]) + W[i - 16]}\n",
    "    \\end{cases}\n",
    "\\end{array}\n",
    "\\end{equation}"
   ]
  },
  {
   "cell_type": "markdown",
   "metadata": {},
   "source": [
    "## Compression function"
   ]
  },
  {
   "cell_type": "code",
   "execution_count": 69,
   "metadata": {},
   "outputs": [
    {
     "data": {
      "text/latex": [
       "\\begin{equation}\n",
       "\\begin{array}{l}\n",
       "    tmp1 = h + \\Sigma_{1}(e) + Ch(e,f,g) + K[i] + W[i]\n",
       "    \\\\tmp2 = \\Sigma_{0}(a) + Maj(a,b,c)\n",
       "    \\\\h = g\n",
       "    \\\\g = f\n",
       "    \\\\f = e\n",
       "    \\\\e = d + tmp1\n",
       "    \\\\d = c\n",
       "    \\\\c = b\n",
       "    \\\\b = a\n",
       "    \\\\a = tmp1 + tmp2\n",
       "\\end{array}\n",
       "\\end{equation}\n"
      ],
      "text/plain": [
       "<IPython.core.display.Latex object>"
      ]
     },
     "metadata": {},
     "output_type": "display_data"
    }
   ],
   "source": [
    "%%latex\n",
    "\\begin{equation}\n",
    "\\begin{array}{l}\n",
    "    tmp1 = h + \\Sigma_{1}(e) + Ch(e,f,g) + K[i] + W[i]\n",
    "    \\\\tmp2 = \\Sigma_{0}(a) + Maj(a,b,c)\n",
    "    \\\\h = g\n",
    "    \\\\g = f\n",
    "    \\\\f = e\n",
    "    \\\\e = d + tmp1\n",
    "    \\\\d = c\n",
    "    \\\\c = b\n",
    "    \\\\b = a\n",
    "    \\\\a = tmp1 + tmp2\n",
    "\\end{array}\n",
    "\\end{equation}"
   ]
  },
  {
   "cell_type": "code",
   "execution_count": null,
   "metadata": {},
   "outputs": [],
   "source": []
  }
 ],
 "metadata": {
  "kernelspec": {
   "display_name": "Python 3",
   "language": "python",
   "name": "python3"
  }
 },
 "nbformat": 4,
 "nbformat_minor": 2
}
